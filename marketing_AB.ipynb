{
 "cells": [
  {
   "cell_type": "code",
   "execution_count": 60,
   "metadata": {},
   "outputs": [],
   "source": [
    "import pandas as pd\n",
    "import numpy as np\n",
    "import matplotlib.pyplot as plt\n",
    "import seaborn as sns\n",
    "import random\n",
    "import math\n",
    "\n",
    "\n",
    "#for statistics\n",
    "from statistics import mean\n",
    "import scipy.stats as stats\n",
    "from statsmodels.stats.proportion import proportions_ztest, proportion_confint\n"
   ]
  },
  {
   "cell_type": "code",
   "execution_count": 61,
   "metadata": {},
   "outputs": [
    {
     "data": {
      "text/html": [
       "<div>\n",
       "<style scoped>\n",
       "    .dataframe tbody tr th:only-of-type {\n",
       "        vertical-align: middle;\n",
       "    }\n",
       "\n",
       "    .dataframe tbody tr th {\n",
       "        vertical-align: top;\n",
       "    }\n",
       "\n",
       "    .dataframe thead th {\n",
       "        text-align: right;\n",
       "    }\n",
       "</style>\n",
       "<table border=\"1\" class=\"dataframe\">\n",
       "  <thead>\n",
       "    <tr style=\"text-align: right;\">\n",
       "      <th></th>\n",
       "      <th>Unnamed: 0</th>\n",
       "      <th>user id</th>\n",
       "      <th>test group</th>\n",
       "      <th>converted</th>\n",
       "      <th>total ads</th>\n",
       "      <th>most ads day</th>\n",
       "      <th>most ads hour</th>\n",
       "    </tr>\n",
       "  </thead>\n",
       "  <tbody>\n",
       "    <tr>\n",
       "      <th>0</th>\n",
       "      <td>0</td>\n",
       "      <td>1069124</td>\n",
       "      <td>ad</td>\n",
       "      <td>False</td>\n",
       "      <td>130</td>\n",
       "      <td>Monday</td>\n",
       "      <td>20</td>\n",
       "    </tr>\n",
       "    <tr>\n",
       "      <th>1</th>\n",
       "      <td>1</td>\n",
       "      <td>1119715</td>\n",
       "      <td>ad</td>\n",
       "      <td>False</td>\n",
       "      <td>93</td>\n",
       "      <td>Tuesday</td>\n",
       "      <td>22</td>\n",
       "    </tr>\n",
       "    <tr>\n",
       "      <th>2</th>\n",
       "      <td>2</td>\n",
       "      <td>1144181</td>\n",
       "      <td>ad</td>\n",
       "      <td>False</td>\n",
       "      <td>21</td>\n",
       "      <td>Tuesday</td>\n",
       "      <td>18</td>\n",
       "    </tr>\n",
       "    <tr>\n",
       "      <th>3</th>\n",
       "      <td>3</td>\n",
       "      <td>1435133</td>\n",
       "      <td>ad</td>\n",
       "      <td>False</td>\n",
       "      <td>355</td>\n",
       "      <td>Tuesday</td>\n",
       "      <td>10</td>\n",
       "    </tr>\n",
       "    <tr>\n",
       "      <th>4</th>\n",
       "      <td>4</td>\n",
       "      <td>1015700</td>\n",
       "      <td>ad</td>\n",
       "      <td>False</td>\n",
       "      <td>276</td>\n",
       "      <td>Friday</td>\n",
       "      <td>14</td>\n",
       "    </tr>\n",
       "  </tbody>\n",
       "</table>\n",
       "</div>"
      ],
      "text/plain": [
       "   Unnamed: 0  user id test group  converted  total ads most ads day  \\\n",
       "0           0  1069124         ad      False        130       Monday   \n",
       "1           1  1119715         ad      False         93      Tuesday   \n",
       "2           2  1144181         ad      False         21      Tuesday   \n",
       "3           3  1435133         ad      False        355      Tuesday   \n",
       "4           4  1015700         ad      False        276       Friday   \n",
       "\n",
       "   most ads hour  \n",
       "0             20  \n",
       "1             22  \n",
       "2             18  \n",
       "3             10  \n",
       "4             14  "
      ]
     },
     "execution_count": 61,
     "metadata": {},
     "output_type": "execute_result"
    }
   ],
   "source": [
    "# read the data into a dataframe\n",
    "data = pd.read_csv(r'marketing_AB.csv')\n",
    "data.head(5)"
   ]
  },
  {
   "cell_type": "markdown",
   "metadata": {},
   "source": [
    "https://www.kaggle.com/datasets/faviovaz/marketing-ab-testing\n",
    "\n",
    "About Dataset\n",
    "Marketing A/B testing dataset\n",
    "Marketing companies want to run successful campaigns, but the market is complex and several options can work. So normally they tun A/B tests, that is a randomized experimentation process wherein two or more versions of a variable (web page, page element, banner, etc.) are shown to different segments of people at the same time to determine which version leaves the maximum impact and drive business metrics.\n",
    "\n",
    "The companies are interested in answering two questions:\n",
    "\n",
    "Would the campaign be successful?\n",
    "If the campaign was successful, how much of that success could be attributed to the ads?\n",
    "With the second question in mind, we normally do an A/B test. The majority of the people will be exposed to ads (the experimental group). And a small portion of people (the control group) would instead see a Public Service Announcement (PSA) (or nothing) in the exact size and place the ad would normally be.\n",
    "\n",
    "The idea of the dataset is to analyze the groups, find if the ads were successful, how much the company can make from the ads, and if the difference between the groups is statistically significant.\n",
    "\n",
    "Data dictionary:\n",
    "\n",
    "Index: Row index\n",
    "user id: User ID (unique)\n",
    "test group: If \"ad\" the person saw the advertisement, if \"psa\" they only saw the public service announcement\n",
    "converted: If a person bought the product then True, else is False\n",
    "total ads: Amount of ads seen by person\n",
    "most ads day: Day that the person saw the biggest amount of ads\n",
    "most ads hour: Hour of day that the person saw the biggest amount of ads"
   ]
  },
  {
   "cell_type": "code",
   "execution_count": 62,
   "metadata": {},
   "outputs": [
    {
     "data": {
      "text/html": [
       "<div>\n",
       "<style scoped>\n",
       "    .dataframe tbody tr th:only-of-type {\n",
       "        vertical-align: middle;\n",
       "    }\n",
       "\n",
       "    .dataframe tbody tr th {\n",
       "        vertical-align: top;\n",
       "    }\n",
       "\n",
       "    .dataframe thead th {\n",
       "        text-align: right;\n",
       "    }\n",
       "</style>\n",
       "<table border=\"1\" class=\"dataframe\">\n",
       "  <thead>\n",
       "    <tr style=\"text-align: right;\">\n",
       "      <th></th>\n",
       "      <th>Unnamed: 0</th>\n",
       "      <th>user id</th>\n",
       "      <th>total ads</th>\n",
       "      <th>most ads hour</th>\n",
       "    </tr>\n",
       "  </thead>\n",
       "  <tbody>\n",
       "    <tr>\n",
       "      <th>count</th>\n",
       "      <td>588101.000000</td>\n",
       "      <td>5.881010e+05</td>\n",
       "      <td>588101.000000</td>\n",
       "      <td>588101.000000</td>\n",
       "    </tr>\n",
       "    <tr>\n",
       "      <th>mean</th>\n",
       "      <td>294050.000000</td>\n",
       "      <td>1.310692e+06</td>\n",
       "      <td>24.820876</td>\n",
       "      <td>14.469061</td>\n",
       "    </tr>\n",
       "    <tr>\n",
       "      <th>std</th>\n",
       "      <td>169770.279667</td>\n",
       "      <td>2.022260e+05</td>\n",
       "      <td>43.715181</td>\n",
       "      <td>4.834634</td>\n",
       "    </tr>\n",
       "    <tr>\n",
       "      <th>min</th>\n",
       "      <td>0.000000</td>\n",
       "      <td>9.000000e+05</td>\n",
       "      <td>1.000000</td>\n",
       "      <td>0.000000</td>\n",
       "    </tr>\n",
       "    <tr>\n",
       "      <th>25%</th>\n",
       "      <td>147025.000000</td>\n",
       "      <td>1.143190e+06</td>\n",
       "      <td>4.000000</td>\n",
       "      <td>11.000000</td>\n",
       "    </tr>\n",
       "    <tr>\n",
       "      <th>50%</th>\n",
       "      <td>294050.000000</td>\n",
       "      <td>1.313725e+06</td>\n",
       "      <td>13.000000</td>\n",
       "      <td>14.000000</td>\n",
       "    </tr>\n",
       "    <tr>\n",
       "      <th>75%</th>\n",
       "      <td>441075.000000</td>\n",
       "      <td>1.484088e+06</td>\n",
       "      <td>27.000000</td>\n",
       "      <td>18.000000</td>\n",
       "    </tr>\n",
       "    <tr>\n",
       "      <th>max</th>\n",
       "      <td>588100.000000</td>\n",
       "      <td>1.654483e+06</td>\n",
       "      <td>2065.000000</td>\n",
       "      <td>23.000000</td>\n",
       "    </tr>\n",
       "  </tbody>\n",
       "</table>\n",
       "</div>"
      ],
      "text/plain": [
       "          Unnamed: 0       user id      total ads  most ads hour\n",
       "count  588101.000000  5.881010e+05  588101.000000  588101.000000\n",
       "mean   294050.000000  1.310692e+06      24.820876      14.469061\n",
       "std    169770.279667  2.022260e+05      43.715181       4.834634\n",
       "min         0.000000  9.000000e+05       1.000000       0.000000\n",
       "25%    147025.000000  1.143190e+06       4.000000      11.000000\n",
       "50%    294050.000000  1.313725e+06      13.000000      14.000000\n",
       "75%    441075.000000  1.484088e+06      27.000000      18.000000\n",
       "max    588100.000000  1.654483e+06    2065.000000      23.000000"
      ]
     },
     "execution_count": 62,
     "metadata": {},
     "output_type": "execute_result"
    }
   ],
   "source": [
    "data.describe()"
   ]
  },
  {
   "cell_type": "code",
   "execution_count": 63,
   "metadata": {},
   "outputs": [
    {
     "name": "stdout",
     "output_type": "stream",
     "text": [
      "<class 'pandas.core.frame.DataFrame'>\n",
      "RangeIndex: 588101 entries, 0 to 588100\n",
      "Data columns (total 7 columns):\n",
      " #   Column         Non-Null Count   Dtype \n",
      "---  ------         --------------   ----- \n",
      " 0   Unnamed: 0     588101 non-null  int64 \n",
      " 1   user id        588101 non-null  int64 \n",
      " 2   test group     588101 non-null  object\n",
      " 3   converted      588101 non-null  bool  \n",
      " 4   total ads      588101 non-null  int64 \n",
      " 5   most ads day   588101 non-null  object\n",
      " 6   most ads hour  588101 non-null  int64 \n",
      "dtypes: bool(1), int64(4), object(2)\n",
      "memory usage: 27.5+ MB\n"
     ]
    }
   ],
   "source": [
    "data.info()"
   ]
  },
  {
   "cell_type": "code",
   "execution_count": 64,
   "metadata": {},
   "outputs": [
    {
     "name": "stdout",
     "output_type": "stream",
     "text": [
      "<class 'pandas.core.frame.DataFrame'>\n",
      "RangeIndex: 588101 entries, 0 to 588100\n",
      "Data columns (total 7 columns):\n",
      " #   Column         Non-Null Count   Dtype\n",
      "---  ------         --------------   -----\n",
      " 0   Unnamed: 0     588101 non-null  int64\n",
      " 1   user id        588101 non-null  int64\n",
      " 2   test group     588101 non-null  int64\n",
      " 3   converted      588101 non-null  int64\n",
      " 4   total ads      588101 non-null  int64\n",
      " 5   most ads day   588101 non-null  int64\n",
      " 6   most ads hour  588101 non-null  int64\n",
      "dtypes: int64(7)\n",
      "memory usage: 31.4 MB\n"
     ]
    }
   ],
   "source": [
    "# convert all columns to int64\n",
    "data['test group'].replace(['ad','psa'],[1,0], inplace = True)\n",
    "data['converted'].replace([True,False],[1,0], inplace = True)\n",
    "data['most ads day'].replace(['Sunday','Monday','Tuesday','Wednesday','Thursday','Friday','Saturday'],[1,2,3,4,5,6,7], inplace = True)\n",
    "data.info()"
   ]
  },
  {
   "cell_type": "markdown",
   "metadata": {},
   "source": [
    "Exploratory Analysis"
   ]
  },
  {
   "cell_type": "code",
   "execution_count": 65,
   "metadata": {},
   "outputs": [
    {
     "data": {
      "text/plain": [
       "<AxesSubplot:xlabel='most ads hour', ylabel='count'>"
      ]
     },
     "execution_count": 65,
     "metadata": {},
     "output_type": "execute_result"
    },
    {
     "data": {
      "image/png": "[encoded data removed]",
      "text/plain": [
       "<Figure size 1440x720 with 3 Axes>"
      ]
     },
     "metadata": {
      "needs_background": "light"
     },
     "output_type": "display_data"
    }
   ],
   "source": [
    "# visualizing distributions of key features\n",
    "\n",
    "# make these graphs pretty\n",
    "\n",
    "fig, ax = plt.subplots(3,1, figsize = (20,10))\n",
    "sns.countplot(ax = ax[0],x = 'total ads', data = data).set(title='total adds seen')\n",
    "ax[0].set_xlim(1,70)\n",
    "sns.countplot(ax = ax[1],x = 'most ads day', data = data)\n",
    "sns.countplot(ax = ax[2],x = 'most ads hour', data = data)\n",
    "\n"
   ]
  },
  {
   "cell_type": "code",
   "execution_count": 66,
   "metadata": {},
   "outputs": [
    {
     "name": "stdout",
     "output_type": "stream",
     "text": [
      "The number of customers who saw more than 71 adds was: 41296 or approximately 7.02 %\n"
     ]
    },
    {
     "data": {
      "image/png": "[encoded data removed]",
      "text/plain": [
       "<Figure size 432x288 with 1 Axes>"
      ]
     },
     "metadata": {
      "needs_background": "light"
     },
     "output_type": "display_data"
    }
   ],
   "source": [
    "\n",
    "sns.boxplot(data=data, x = 'total ads')\n",
    "print('The number of customers who saw more than 71 adds was: ' + str(data[data['total ads']>71]['total ads'].count()) + ' or approximately {:0.2f} %'.format(data[data['total ads']>71]['total ads'].count()*100/data['total ads'].count()))"
   ]
  },
  {
   "cell_type": "code",
   "execution_count": 67,
   "metadata": {},
   "outputs": [
    {
     "name": "stdout",
     "output_type": "stream",
     "text": [
      "1    564577\n",
      "0     23524\n",
      "Name: test group, dtype: int64\n"
     ]
    },
    {
     "data": {
      "text/plain": [
       "([<matplotlib.axis.YTick at 0x23da1a63d00>,\n",
       "  <matplotlib.axis.YTick at 0x23da1a63550>,\n",
       "  <matplotlib.axis.YTick at 0x23da1a53220>,\n",
       "  <matplotlib.axis.YTick at 0x23da1a76910>,\n",
       "  <matplotlib.axis.YTick at 0x23da1a7a190>,\n",
       "  <matplotlib.axis.YTick at 0x23da1a76b20>],\n",
       " [Text(0, 0.0, '0%'),\n",
       "  Text(0, 0.005, '0.5%'),\n",
       "  Text(0, 0.01, '1.0%'),\n",
       "  Text(0, 0.015, '1.5%'),\n",
       "  Text(0, 0.02, '2.0%'),\n",
       "  Text(0, 0.025, '2.5%')])"
      ]
     },
     "execution_count": 67,
     "metadata": {},
     "output_type": "execute_result"
    },
    {
     "data": {
      "image/png": "[encoded data removed]",
      "text/plain": [
       "<Figure size 432x288 with 1 Axes>"
      ]
     },
     "metadata": {
      "needs_background": "light"
     },
     "output_type": "display_data"
    }
   ],
   "source": [
    "print(data['test group'].value_counts())\n",
    "sns.barplot(data=data, x = data['test group'], y = data['converted'])\n",
    "plt.title('Conversion Rates by Test Group')\n",
    "plt.xticks([0,1],['Control','Treatment'])\n",
    "plt.yticks([0.000,0.005,0.010,0.015,0.020,0.025],['0%','0.5%','1.0%','1.5%','2.0%','2.5%'])"
   ]
  },
  {
   "cell_type": "code",
   "execution_count": 68,
   "metadata": {},
   "outputs": [
    {
     "name": "stdout",
     "output_type": "stream",
     "text": [
      "test group\n",
      "0    0.017854\n",
      "1    0.025547\n",
      "Name: converted, dtype: float64\n"
     ]
    }
   ],
   "source": [
    "print(data.groupby('test group')['converted'].mean())"
   ]
  },
  {
   "cell_type": "markdown",
   "metadata": {},
   "source": [
    "we can see that the conversion rate for those shown adds is 43% higher than those shown psa's "
   ]
  },
  {
   "cell_type": "code",
   "execution_count": 69,
   "metadata": {},
   "outputs": [
    {
     "name": "stdout",
     "output_type": "stream",
     "text": [
      "0\n"
     ]
    }
   ],
   "source": [
    "# were there any duplicate users?\n",
    "print(data['user id'].duplicated().sum())\n",
    "# no duplicates were found\n"
   ]
  },
  {
   "cell_type": "code",
   "execution_count": null,
   "metadata": {},
   "outputs": [],
   "source": []
  },
  {
   "cell_type": "markdown",
   "metadata": {},
   "source": [
    "Frequentist A/B test\n",
    "-we will use a two tailed test because we dont know how the ads will effect conversion rate\n",
    "-H_0: Conversion_no_ads = Conversion_with_Ads\n",
    "-H_a: Conversion_no_ads != Conversion_with_Ads\n",
    "- set confidence level at 95% -> alpha = 0.05\n",
    "- set power level at 0.8 by convention\n",
    "-"
   ]
  },
  {
   "cell_type": "code",
   "execution_count": 70,
   "metadata": {},
   "outputs": [],
   "source": [
    "alpha = 0.05\n",
    "power = 0.8"
   ]
  },
  {
   "cell_type": "code",
   "execution_count": 71,
   "metadata": {},
   "outputs": [
    {
     "name": "stdout",
     "output_type": "stream",
     "text": [
      "The baseline conversion rate is: 0.0176\n",
      "The baseline standard deviation is: 0.0013005671839624435\n",
      "The minimum desirable effect size is:  1.353255734654016\n"
     ]
    }
   ],
   "source": [
    "# determine baseline conversion rate. we will say for the sake of this experiment that we took a random sample of 10,000 instances of customers \n",
    "# not shown adds to determine our baseline conversion rate\n",
    "random.seed(42)\n",
    "converted_list = (controll_df['converted']).to_list()\n",
    "baseline_conversion = mean(random.choices(converted_list,k = 10000))\n",
    "print('The baseline conversion rate is: ' + str(baseline_conversion))\n",
    "\n",
    "# determine a standard deviation\n",
    "means = []\n",
    "for i in range(10000):\n",
    "    means.append(mean(random.choices(converted_list,k = 10000)))\n",
    "baseline_std = np.std(means)\n",
    "print('The baseline standard deviation is: ' + str(baseline_std))\n",
    "\n",
    "#calculate minimum desired effect size\n",
    "min_lift = .1\n",
    "min_effect_size = (baseline_conversion*(1+min_lift)- baseline_conversion)/baseline_std\n",
    "MDE = baseline_conversion*(1+min_lift)\n",
    "print('The minimum desirable effect size is: ',min_effect_size)\n",
    "\n",
    "\n"
   ]
  },
  {
   "cell_type": "code",
   "execution_count": 72,
   "metadata": {},
   "outputs": [
    {
     "name": "stdout",
     "output_type": "stream",
     "text": [
      "The minimum sample size for this test will be:  21371\n"
     ]
    }
   ],
   "source": [
    "# sample size calculation\n",
    "Z_alpha_half = .5987\n",
    "Z_beta = .7881\n",
    "\n",
    "n = ((Z_alpha_half*math.sqrt(2*baseline_conversion*(1-baseline_conversion)+Z_beta*math.sqrt(baseline_conversion*(1-baseline_conversion)+MDE*(1-MDE))))**2)/(MDE-baseline_conversion)**2\n",
    "print('The minimum sample size for this test will be: ',round(n))"
   ]
  },
  {
   "cell_type": "markdown",
   "metadata": {},
   "source": [
    "since our controll group contains 23524 members and our test group is roughly 24x this size we have plenty of observations to conduct this test with the desired accuracy. "
   ]
  },
  {
   "cell_type": "code",
   "execution_count": 73,
   "metadata": {},
   "outputs": [
    {
     "name": "stdout",
     "output_type": "stream",
     "text": [
      "Ttest_indResult(statistic=7.37040597428566, pvalue=1.7033052627831264e-13)\n"
     ]
    }
   ],
   "source": [
    "# calculating p- value using ttest_ind\n",
    "p_val = stats.ttest_ind(list(data[data['test group']==1]['converted']),list(data[data['test group']==0]['converted']), equal_var = True)\n",
    "print(p_val)"
   ]
  },
  {
   "cell_type": "code",
   "execution_count": 74,
   "metadata": {},
   "outputs": [
    {
     "name": "stdout",
     "output_type": "stream",
     "text": [
      "z statistic:  -7.3700781265454145\n",
      "p-value:  1.7052807161559727e-13\n",
      "95% confidence interval for control group:  0.016 0.020\n",
      "95% confidence interval for control group:  0.025 0.026\n"
     ]
    }
   ],
   "source": [
    "control_results = data[data['test group']==0]['converted']\n",
    "treatment_results = data[data['test group']==1]['converted']\n",
    "\n",
    "n_converted = control_results.count()\n",
    "n_treatment = treatment_results.count()\n",
    "successes = [control_results.sum(), treatment_results.sum()]\n",
    "nobs = [n_converted, n_treatment]\n",
    "\n",
    "z_stat, p_val = proportions_ztest(successes, nobs=nobs)\n",
    "(lower_con, lower_treatment), (upper_con, upper_treatment) = proportion_confint(successes, nobs=nobs, alpha=0.05)\n",
    "\n",
    "print('z statistic: ', z_stat)\n",
    "print('p-value: ', p_val)\n",
    "print('95% confidence interval for control group: ' , format(lower_con,'.3f'), format(upper_con,'.3f'))\n",
    "print('95% confidence interval for control group: ' , format(lower_treatment,'.3f'), format(upper_treatment,'.3f'))\n",
    "\n"
   ]
  },
  {
   "cell_type": "markdown",
   "metadata": {},
   "source": [
    "given that our p- value of 1.7e-13 is far far lower than our significance level of 0.05 we can reject the null hypothesis\n",
    "This means that our ad campaign had a statistically significant positive impact on conversion rate"
   ]
  },
  {
   "cell_type": "markdown",
   "metadata": {},
   "source": [
    "Bayesian A/B test "
   ]
  },
  {
   "cell_type": "markdown",
   "metadata": {},
   "source": [
    "In order to conduct a Baysean test we need to establish a prior distribution. Since we do not have very much inform about the company from which this data comes we will have to do this in a creative way. My choices here are somewhat arbitrary and somewhat based on intuition. my original plas was as follows: Since I assume that as time passes, participants will be exposed to a greater and greater number of adds/psas, I will use the ~ 18% of participants that watched only 1 or 2 psas and use these to construct a prior, I will then use the rest of the data as the experimental set. I found 2 problems with this approach: 1) the mean conversion of this group was only around 0.4% which is much lower than I know the conversion rate to be 2) I did not want to exclude this group from the experimental set because, with such a low mean, excluding this group would skew the results in a consistant way. I have elected to fabricate my own prior distribution to have a mean and variance slightly smaller than the overall set. Although this is not required to do an analysis, I feel that this will give me some useful experience. \n",
    "\n",
    "alternatively, we can assume that we previously believed that 15 out of every 1000 were converted. this would yield alpha = 15, beta = 985"
   ]
  },
  {
   "cell_type": "code",
   "execution_count": 158,
   "metadata": {},
   "outputs": [
    {
     "data": {
      "text/plain": [
       "22494"
      ]
     },
     "execution_count": 158,
     "metadata": {},
     "output_type": "execute_result"
    }
   ],
   "source": [
    "prior = data[(data['total ads']<100) & (data['test group'] == 0)]\n",
    "prior['converted'].count()"
   ]
  },
  {
   "cell_type": "code",
   "execution_count": 115,
   "metadata": {},
   "outputs": [
    {
     "data": {
      "text/plain": [
       "<AxesSubplot:ylabel='Count'>"
      ]
     },
     "execution_count": 115,
     "metadata": {},
     "output_type": "execute_result"
    },
    {
     "data": {
      "image/png": "[encoded data removed]",
      "text/plain": [
       "<Figure size 432x288 with 1 Axes>"
      ]
     },
     "metadata": {
      "needs_background": "light"
     },
     "output_type": "display_data"
    }
   ],
   "source": [
    "prior_means = []\n",
    "for i in range(10000):\n",
    "    selections = mean(random.choices(prior['converted'].to_list(),k=1000))\n",
    "    prior_means.append(selections)\n",
    "prior_means[:10]\n",
    "sns.histplot(x=prior_means)"
   ]
  },
  {
   "cell_type": "markdown",
   "metadata": {},
   "source": [
    "this looks like a great dummy prior to me!"
   ]
  },
  {
   "cell_type": "code",
   "execution_count": 151,
   "metadata": {},
   "outputs": [
    {
     "name": "stdout",
     "output_type": "stream",
     "text": [
      "12.216829229250514 911.0901122059272\n"
     ]
    }
   ],
   "source": [
    "# model prior as beta distribution of sample means\n",
    "prior_alpha, prior_beta, _, _ = stats.beta.fit(prior_means, floc = 0, fscale = 1)\n",
    "print(prior_alpha, prior_beta)"
   ]
  },
  {
   "cell_type": "code",
   "execution_count": 157,
   "metadata": {},
   "outputs": [
    {
     "data": {
      "text/plain": [
       "[<matplotlib.lines.Line2D at 0x23da70d37c0>]"
      ]
     },
     "execution_count": 157,
     "metadata": {},
     "output_type": "execute_result"
    },
    {
     "data": {
      "image/png": "[encoded data removed]",
      "text/plain": [
       "<Figure size 432x288 with 1 Axes>"
      ]
     },
     "metadata": {
      "needs_background": "light"
     },
     "output_type": "display_data"
    }
   ],
   "source": [
    "fig, ax = plt.subplots(1, 1)\n",
    "x = np.linspace(stats.beta.ppf(0.01, prior_alpha, prior_beta),\n",
    "                stats.beta.ppf(0.99, prior_alpha, prior_beta), 100)\n",
    "ax.plot(x, stats.beta.pdf(x, prior_alpha, prior_beta))\n",
    "# x = np.linspace(stats.beta.ppf(0.01, 15, 985),\n",
    "#                 stats.beta.ppf(0.99, 15, 985), 100)\n",
    "ax.plot(x, stats.beta.pdf(x, 15, 985), 'r-')\n"
   ]
  },
  {
   "cell_type": "markdown",
   "metadata": {},
   "source": [
    "results of the test"
   ]
  },
  {
   "cell_type": "code",
   "execution_count": 171,
   "metadata": {},
   "outputs": [
    {
     "name": "stdout",
     "output_type": "stream",
     "text": [
      "control conversion rate:  1.79 %\n",
      "treatment conversion rate:  2.55 %\n",
      "lift:  43.09 %\n"
     ]
    }
   ],
   "source": [
    "print('control conversion rate: ', format(data[data['test group']==0]['converted'].mean()*100,'.2f'),'%')\n",
    "print('treatment conversion rate: ', format(data[data['test group']==1]['converted'].mean()*100, '.2f'),'%')\n",
    "print('lift: ',format((data[data['test group']==1]['converted'].mean()/data[data['test group']==0]['converted'].mean()*100)-100,'.2f'), '%')"
   ]
  },
  {
   "cell_type": "markdown",
   "metadata": {},
   "source": [
    "When and how many of these ads should we run?"
   ]
  }
 ],
 "metadata": {
  "kernelspec": {
   "display_name": "Python 3.9.7 ('base')",
   "language": "python",
   "name": "python3"
  },
  "language_info": {
   "codemirror_mode": {
    "name": "ipython",
    "version": 3
   },
   "file_extension": ".py",
   "mimetype": "text/x-python",
   "name": "python",
   "nbconvert_exporter": "python",
   "pygments_lexer": "ipython3",
   "version": "3.9.7"
  },
  "orig_nbformat": 4,
  "vscode": {
   "interpreter": {
    "hash": "db5ce6e7fa14788ff720c1c8872352751a1050b1801ffd1c839f434971ac970f"
   }
  }
 },
 "nbformat": 4,
 "nbformat_minor": 2
}
